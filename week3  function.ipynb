{
 "cells": [
  {
   "cell_type": "code",
   "execution_count": 4,
   "metadata": {},
   "outputs": [
    {
     "name": "stdout",
     "output_type": "stream",
     "text": [
      "Using matplotlib backend: Qt5Agg\n"
     ]
    }
   ],
   "source": [
    "import numpy as np\n",
    "from math import sin\n",
    "from math import exp\n",
    "import matplotlib.pyplot as plt \n",
    "from scipy import linalg\n",
    "%matplotlib"
   ]
  },
  {
   "cell_type": "code",
   "execution_count": 5,
   "metadata": {},
   "outputs": [
    {
     "name": "stdout",
     "output_type": "stream",
     "text": [
      "[ 3.43914511 -0.18692825]\n"
     ]
    }
   ],
   "source": [
    "a = np.array([[1.,1.],[1.,15.]])\n",
    "f_x1 = sin(1./5)*exp(1./10)+5*exp(-1./2)\n",
    "f_x2 = sin(15./5)*exp(15./10)+5*exp(-15./2)\n",
    "b = np.array([f_x1,f_x2])\n",
    "x = linalg.solve(a,b)\n",
    "print (x)\n",
    "t=np.array([1.,15.])"
   ]
  },
  {
   "cell_type": "code",
   "execution_count": 6,
   "metadata": {
    "collapsed": true
   },
   "outputs": [],
   "source": [
    "def f(t):\n",
    "    return x[0]+x[1]*t\n",
    "def func(x):\n",
    "    return sin(x/5)*exp(x/10)+5*exp(-x/2)\n",
    "def f1(t):\n",
    "     return x1[0]+x1[1]*t+x1[2]*t**2\n",
    "def f2(t2):\n",
    "    return x2[0]+x2[1]*t2+x2[2]*t2**2+x2[3]*t2**3"
   ]
  },
  {
   "cell_type": "code",
   "execution_count": 7,
   "metadata": {},
   "outputs": [
    {
     "name": "stdout",
     "output_type": "stream",
     "text": [
      "[ 3.32512949 -0.06531159 -0.00760104]\n"
     ]
    }
   ],
   "source": [
    "plt.plot(t,f(t))\n",
    "plt.show()\n",
    "f_x8 = func(8.)\n",
    "b1=np.array([f_x1,f_x8,f_x2])\n",
    "a1=np.array([[1.,1.,1.],[1.,8.,64.],[1.,15.,225.]])\n",
    "x1=linalg.solve(a1,b1)\n",
    "print (x1)"
   ]
  },
  {
   "cell_type": "code",
   "execution_count": 9,
   "metadata": {},
   "outputs": [
    {
     "name": "stdout",
     "output_type": "stream",
     "text": [
      "[ 4.36264154 -1.29552587  0.19333685 -0.00823565]\n"
     ]
    }
   ],
   "source": [
    "t1=np.array([1.,8.,15.])\n",
    "plt.plot(t,f(t),t1,f1(t1))\n",
    "plt.show\n",
    "t2=np.array([1.,4.,10.,15.])\n",
    "f_x4=func(4.)\n",
    "f_x10=func(10.)\n",
    "b2=np.array([f_x1,f_x4,f_x10,f_x2])\n",
    "a2=np.array([[1.,1.,1.,1.],[1.,4.,16.,64.],[1.,10.,100.,1000.],[1.,15.,225.,15.**3]])\n",
    "x2=linalg.solve(a2,b2)\n",
    "print (x2)"
   ]
  },
  {
   "cell_type": "code",
   "execution_count": 10,
   "metadata": {
    "collapsed": true
   },
   "outputs": [],
   "source": [
    "t=np.arange(1.,16.,0.1)\n",
    "plt.plot(t,f(t), t, f1(t), t,f(t))\n",
    "plt.show()\n",
    "f=open('1.txt','w')\n",
    "for i in x2:\n",
    "    f.write(str(i)+' ')\n",
    "f.close()"
   ]
  }
 ],
 "metadata": {
  "kernelspec": {
   "display_name": "Python 3",
   "language": "python",
   "name": "python3"
  },
  "language_info": {
   "codemirror_mode": {
    "name": "ipython",
    "version": 3
   },
   "file_extension": ".py",
   "mimetype": "text/x-python",
   "name": "python",
   "nbconvert_exporter": "python",
   "pygments_lexer": "ipython3",
   "version": "3.6.3"
  }
 },
 "nbformat": 4,
 "nbformat_minor": 1
}

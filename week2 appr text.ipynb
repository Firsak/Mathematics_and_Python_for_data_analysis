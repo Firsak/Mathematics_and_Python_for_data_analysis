{
 "cells": [
  {
   "cell_type": "code",
   "execution_count": 5,
   "metadata": {},
   "outputs": [],
   "source": [
    "import re\n",
    "import numpy as np\n",
    "import scipy as sp\n",
    "from scipy.spatial.distance import cosine"
   ]
  },
  {
   "cell_type": "code",
   "execution_count": 36,
   "metadata": {},
   "outputs": [
    {
     "data": {
      "text/plain": [
       "<_io.TextIOWrapper name='sentences.txt' mode='r' encoding='UTF-8'>"
      ]
     },
     "execution_count": 36,
     "metadata": {},
     "output_type": "execute_result"
    }
   ],
   "source": [
    "f = open('sentences.txt','r')\n",
    "f"
   ]
  },
  {
   "cell_type": "code",
   "execution_count": 37,
   "metadata": {},
   "outputs": [
    {
     "name": "stdout",
     "output_type": "stream",
     "text": [
      "['in comparison to dogs, cats have not undergone major changes during the domestication process.\\n', 'as cat simply catenates streams of bytes, it can be also used to concatenate binary files, where it will just concatenate sequence of bytes.\\n', 'a common interactive use of cat for a single file is to output the content of a file to standard output.\\n', 'cats can hear sounds too faint or too high in frequency for human ears, such as those made by mice and other small animals.\\n', 'in one, people deliberately tamed cats in a process of artificial selection, as they were useful predators of vermin.\\n', 'the domesticated cat and its closest wild ancestor are both diploid organisms that possess 38 chromosomes and roughly 20,000 genes.\\n', 'domestic cats are similar in size to the other members of the genus felis, typically weighing between 4 and 5 kg (8.8 and 11.0 lb).\\n', 'however, if the output is piped or redirected, cat is unnecessary.\\n', 'cat with one named file is safer where human error is a concern - one wrong use of the default redirection symbol \">\" instead of \"<\" (often adjacent on keyboards) may permanently delete the file you were just needing to read.\\n', 'in terms of legibility, a sequence of commands starting with cat and connected by pipes has a clear left-to-right flow of information.\\n', 'cat command is one of the basic commands that you learned when you started in the unix / linux world.\\n', 'using cat command, the lines received from stdin can be redirected to a new file using redirection symbols.\\n', 'when you type simply cat command without any arguments, it just receives the stdin content and displays it in the stdout.\\n', 'leopard was released on october 26, 2007 as the successor of tiger (version 10.4), and is available in two editions.\\n', 'according to apple, leopard contains over 300 changes and enhancements over its predecessor, mac os x tiger.\\n', 'as of mid 2010, some apple computers have firmware factory installed which will no longer allow installation of mac os x leopard.\\n', 'since apple moved to using intel processors in their computers, the osx86 community has developed and now also allows mac os x tiger and later releases to be installed on non-apple x86-based computers.\\n', \"os x mountain lion was released on july 25, 2012 for purchase and download through apple's mac app store, as part of a switch to releasing os x versions online and every year.\\n\", 'apple has released a small patch for the three most recent versions of safari running on os x yosemite, mavericks, and mountain lion.\\n', 'the mountain lion release marks the second time apple has offered an incremental upgrade, rather than releasing a new cat entirely.\\n', \"mac os x mountain lion installs in place, so you won't need to create a separate disk or run the installation off an external drive.\\n\", \"the fifth major update to mac os x, leopard, contains such a mountain of features - more than 300 by apple's count.\\n\"]\n"
     ]
    }
   ],
   "source": [
    "n=0\n",
    "sentences=[]\n",
    "for line in f:\n",
    "    sentences.append(line.lower())\n",
    "    n+=1\n"
   ]
  },
  {
   "cell_type": "code",
   "execution_count": 47,
   "metadata": {},
   "outputs": [
    {
     "name": "stdout",
     "output_type": "stream",
     "text": [
      "{'a', 'part', 'factory', 'mountain', 'redirection', 'non', 'closest', 'since', 'bytes', 'through', 'symbol', 'useful', 'faint', 'people', 'roughly', 'learned', 'lion', 'time', 'leopard', 'mac', 'every', 'vermin', 'of', 't', 'often', 'off', 'size', 'based', 'app', 'processors', 'marks', 'displays', 'any', 'safari', 'flow', 'using', 'available', 'fifth', 'high', 'single', 'predators', 'simply', 'instead', 'when', 'was', 'felis', 'or', 'changes', 'undergone', 'can', 'connected', 'content', 'release', 'just', 'domesticated', 'files', 'drive', 'in', 'however', 'version', 'installs', 'lb', 'switch', 'allows', 'to', 'running', 'common', 'entirely', 'where', 'you', 'without', 'features', 'unnecessary', 'human', 'starting', 'wild', 'keyboards', 'read', 'needing', 'computers', 'lines', 'stdout', 'separate', 'create', 'on', 'mavericks', 'and', 'successor', 'releases', 'predecessor', 'editions', 'three', 'such', 'if', 'need', 'legibility', 'basic', 'update', 'incremental', 'enhancements', 'store', 'some', 'permanently', 'it', 'longer', 'artificial', 'interactive', 'external', 'domestic', 'intel', 'rather', 'type', 'moved', 'world', 'over', 'second', 'selection', 'tamed', 'weighing', 'an', 'than', 'delete', 'run', 'linux', 'concern', 'not', 'which', 'now', 'between', 'stdin', 'releasing', 'be', 'too', 'that', 'offered', 'purchase', 'received', 'adjacent', 'yosemite', 'named', 'online', 'one', 'animals', 'binary', 'unix', 'installation', 'organisms', 'receives', 'output', 'use', 'hear', 'genus', 'from', 'developed', 'so', 'deliberately', 'other', 'default', 'july', 'according', 'community', 'left', 'may', 'new', 'right', 'were', 'comparison', 'patch', 'command', 'count', 'its', 'piped', 'pipes', 'cats', 'two', 'as', 'domestication', 'similar', 'x', 'firmware', 'place', 'mice', 'with', 'download', 'october', 'contains', 'allow', 'ancestor', 'terms', 'has', 'apple', 'concatenate', 'kg', 'information', 'is', 'streams', 's', 'small', 'sequence', 'members', 'osx', 'symbols', 'installed', 'wrong', 'safer', 'file', 'typically', 'dogs', 'clear', 'redirected', 'tiger', 'made', 'diploid', 'genes', 'started', 'arguments', 'won', 'those', 'os', 'mid', 'the', 'recent', 'are', 'also', 'standard', 'disk', 'later', 'process', 'sounds', 'their', 'possess', 'they', 'more', 'by', 'catenates', 'upgrade', 'error', 'frequency', 'major', 'both', 'most', 'ears', 'used', 'commands', 'chromosomes', 'cat', 'no', 'have', 'for', 'during', 'released', 'will', 'year', 'versions'}\n"
     ]
    }
   ],
   "source": [
    "#new_text = re.split('[^a-z]', a)\n",
    "sent=[]\n",
    "for i in sentences:\n",
    "    sent.append(re.split('[^a-z]', i))\n",
    "sent1=[]\n",
    "for i in range (0, len(sent)):\n",
    "    sent1.append([])\n",
    "    for j in sent[i]:\n",
    "        if j:\n",
    "            sent1[i].append(j)\n",
    "#text = [s for s in new_text if s]\n",
    "different_words = []\n",
    "for i in sent1:\n",
    "    different_words += i\n",
    "different_words = set( different_words)           \n",
    "print(different_words)"
   ]
  },
  {
   "cell_type": "code",
   "execution_count": null,
   "metadata": {
    "collapsed": true
   },
   "outputs": [],
   "source": [
    "diction={}\n",
    "for i in range(0, len(different_words)):\n",
    "    if different_words[i] not in diction :\n",
    "        diction[different_words[i]]=i\n",
    "        \n",
    "d = len(different_words)   \n",
    "matrix = np.zeros((n,d)) \n",
    "for i in range(0,n):\n",
    "    for key, v in diction.items():\n",
    "        matrix[i,v] = sent1[i].count(key)\n",
    "cos_len=[]\n",
    "for i in range(1,n):\n",
    "    cos_len.append(cosine(matrix[0],matrix[i]))\n",
    "min_len = min(cos_len)\n",
    "ind=0\n",
    "for i in range(0, len(cos_len)):\n",
    "    if cos_len[i]==min_len:\n",
    "        ind=i\n",
    "        cos_len[i]=2\n",
    "min2_len = min(cos_len)\n",
    "ind2=0\n",
    "for i in range(0, len(cos_len)):\n",
    "    if cos_len[i]==min2_len:\n",
    "        ind2=i\n",
    "f_new=open('sentences_1.txt','w')\n",
    "f_new.write(str(ind+1)+' '+str(ind2+1))\n",
    "f_new.close()\n",
    "print (ind+1,ind2+1)"
   ]
  }
 ],
 "metadata": {
  "anaconda-cloud": {},
  "kernelspec": {
   "display_name": "Python 3",
   "language": "python",
   "name": "python3"
  },
  "language_info": {
   "codemirror_mode": {
    "name": "ipython",
    "version": 3
   },
   "file_extension": ".py",
   "mimetype": "text/x-python",
   "name": "python",
   "nbconvert_exporter": "python",
   "pygments_lexer": "ipython3",
   "version": "3.6.3"
  }
 },
 "nbformat": 4,
 "nbformat_minor": 1
}
